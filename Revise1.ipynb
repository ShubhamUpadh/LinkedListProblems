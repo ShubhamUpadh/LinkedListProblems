{
 "cells": [
  {
   "cell_type": "code",
   "execution_count": 1,
   "id": "68e445a0",
   "metadata": {},
   "outputs": [],
   "source": [
    "class Node:\n",
    "    def __init__(self,value):\n",
    "        self.value = value\n",
    "        self.next = None"
   ]
  },
  {
   "cell_type": "code",
   "execution_count": 2,
   "id": "2ca55d17",
   "metadata": {},
   "outputs": [],
   "source": [
    "def printLL(head):\n",
    "    while head != None:\n",
    "        print(head.value,end =\"->\")\n",
    "        head = head.next\n",
    "    print(\"None\")"
   ]
  },
  {
   "cell_type": "code",
   "execution_count": 3,
   "id": "4a41301b",
   "metadata": {},
   "outputs": [],
   "source": [
    "def takeInput():\n",
    "    values = list(int(x) for x in input(\"Enter values \").split(\" \"))\n",
    "    head, curr = None, None\n",
    "    for value in values:\n",
    "        newNode = Node(value)\n",
    "        if head is None:\n",
    "            head = newNode\n",
    "            curr = newNode\n",
    "        else:\n",
    "            curr.next = newNode\n",
    "            curr = curr.next\n",
    "    return head       "
   ]
  },
  {
   "cell_type": "code",
   "execution_count": 4,
   "id": "d5283681",
   "metadata": {},
   "outputs": [],
   "source": [
    "def posInsert(head,pos,value):\n",
    "    if pos == 0:\n",
    "        newNode = Node(value)\n",
    "        newNode.next = head\n",
    "        return newNode\n",
    "    counter = 0\n",
    "    temp = head\n",
    "    while counter < pos - 1:\n",
    "        if temp is None:\n",
    "            return -1\n",
    "        temp = temp.next\n",
    "    newNode = Node(value)\n",
    "    newNode.next = temp.next\n",
    "    temp.next= newNode\n",
    "    return head\n",
    "\n",
    "def getLength(head):\n",
    "    lenLL = 0\n",
    "    while head != None:\n",
    "        lenLL += 1\n",
    "        head = head.next\n",
    "    return lenLL"
   ]
  },
  {
   "cell_type": "code",
   "execution_count": 6,
   "id": "126a067c",
   "metadata": {},
   "outputs": [],
   "source": [
    "def posInsRec(head,value,pos):\n",
    "    if head is None:\n",
    "        return head\n",
    "    if pos == 1:\n",
    "        newNode = Node(head)\n",
    "        newNode.next = head.next\n",
    "        head.next = newNode\n",
    "        return head\n",
    "    head.next = posInsRec(head.next,value,pos-1)\n",
    "    return head\n",
    "\n",
    "def recDeletion(head,pos):\n",
    "    if head is None:\n",
    "        return head\n",
    "    if pos == 0:\n",
    "        head = head.next\n",
    "    head.next = recDeletion(head.next,pos-1)\n",
    "    return head"
   ]
  },
  {
   "cell_type": "code",
   "execution_count": 7,
   "id": "c4627d21",
   "metadata": {},
   "outputs": [],
   "source": [
    "def reverseLLRec(head):\n",
    "    if head.next is None:\n",
    "        return head,head\n",
    "    sHead, sTail = reverseLLRec(head.next)\n",
    "    sTail.next = head\n",
    "    head.next = None\n",
    "    return sHead, head"
   ]
  }
 ],
 "metadata": {
  "kernelspec": {
   "display_name": "Python 3 (ipykernel)",
   "language": "python",
   "name": "python3"
  },
  "language_info": {
   "codemirror_mode": {
    "name": "ipython",
    "version": 3
   },
   "file_extension": ".py",
   "mimetype": "text/x-python",
   "name": "python",
   "nbconvert_exporter": "python",
   "pygments_lexer": "ipython3",
   "version": "3.9.7"
  }
 },
 "nbformat": 4,
 "nbformat_minor": 5
}
