{
 "cells": [
  {
   "cell_type": "code",
   "execution_count": 9,
   "id": "0d2010b4",
   "metadata": {},
   "outputs": [],
   "source": [
    "class Node:\n",
    "    def __init__(self,value):\n",
    "        self.value = value\n",
    "        self.next = None"
   ]
  },
  {
   "cell_type": "code",
   "execution_count": 2,
   "id": "017b990f",
   "metadata": {},
   "outputs": [],
   "source": [
    "def printLL(head):\n",
    "    while head != None:\n",
    "        print(head.value,end =\"->\")\n",
    "        head = head.next\n",
    "    print(\"None\")"
   ]
  },
  {
   "cell_type": "code",
   "execution_count": 3,
   "id": "68c0ce1d",
   "metadata": {},
   "outputs": [],
   "source": [
    "def takeInput():\n",
    "    values = list(int(x) for x in input(\"Enter values \").split(\" \"))\n",
    "    head, curr = None, None\n",
    "    for value in values:\n",
    "        newNode = Node(value)\n",
    "        if head is None:\n",
    "            head = newNode\n",
    "            curr = newNode\n",
    "        else:\n",
    "            curr.next = newNode\n",
    "            curr = curr.next\n",
    "    return head       "
   ]
  },
  {
   "cell_type": "code",
   "execution_count": 4,
   "id": "4d2986ba",
   "metadata": {},
   "outputs": [],
   "source": [
    "def posInsert(head,pos,value):\n",
    "    if pos == 0:\n",
    "        newNode = Node(value)\n",
    "        newNode.next = head\n",
    "        return newNode\n",
    "    counter = 0\n",
    "    temp = head\n",
    "    while counter < pos - 1:\n",
    "        if temp is None:\n",
    "            return -1\n",
    "        temp = temp.next\n",
    "    newNode = Node(value)\n",
    "    newNode.next = temp.next\n",
    "    temp.next= newNode\n",
    "    return head\n",
    "\n",
    "def getLength(head):\n",
    "    lenLL = 0\n",
    "    while head != None:\n",
    "        lenLL += 1\n",
    "        head = head.next\n",
    "    return lenLL"
   ]
  },
  {
   "cell_type": "code",
   "execution_count": 6,
   "id": "1a48dbde",
   "metadata": {},
   "outputs": [],
   "source": [
    "def posInsRec(head,value,pos):\n",
    "    if head is None:\n",
    "        return head\n",
    "    if pos == 1:\n",
    "        newNode = Node(head)\n",
    "        newNode.next = head.next\n",
    "        head.next = newNode\n",
    "        return head\n",
    "    head.next = posInsRec(head.next,value,pos-1)\n",
    "    return head\n",
    "\n",
    "def recDeletion(head,pos):\n",
    "    if head is None:\n",
    "        return head\n",
    "    if pos == 0:\n",
    "        head = head.next\n",
    "    head.next = recDeletion(head.next,pos-1)\n",
    "    return head"
   ]
  },
  {
   "cell_type": "code",
   "execution_count": 7,
   "id": "7f9c07d6",
   "metadata": {},
   "outputs": [],
   "source": [
    "def reverseLLRec(head):\n",
    "    if head.next is None:\n",
    "        return head,head\n",
    "    sHead, sTail = reverseLLRec(head.next)\n",
    "    sTail.next = head\n",
    "    head.next = None\n",
    "    return sHead, head"
   ]
  },
  {
   "cell_type": "code",
   "execution_count": 8,
   "id": "d4a86744",
   "metadata": {},
   "outputs": [],
   "source": [
    "def mergeLL(head1,head2):\n",
    "    if head1 is None or head2 is None:\n",
    "        return head1 if head2 is None else head2\n",
    "    dummy = Node(0)\n",
    "    temp = dummy\n",
    "    while head1 and head2:\n",
    "        if head1.value > head2.value:\n",
    "            dummy.next = head2\n",
    "            head2 = head2.next\n",
    "        else:\n",
    "            dummy.next = head1\n",
    "            head1 = head1.next\n",
    "        dummy = dummy.next\n",
    "    if head1 is None:\n",
    "        dummy.next = head2\n",
    "    elif head2 is None:\n",
    "        dummy.next = head1\n",
    "    return temp.next"
   ]
  },
  {
   "cell_type": "code",
   "execution_count": null,
   "id": "3e740ef3",
   "metadata": {},
   "outputs": [],
   "source": [
    "def addTwoLL(head1,head2):\n",
    "    dummy = Node(0)\n",
    "    temp = dummy\n",
    "    carryOver = 0\n",
    "    while head1 or head2 or carryOver:\n",
    "        currSum = 0\n",
    "        if head1:\n",
    "            currSum += head1.value\n",
    "            head1 = head1.next \n",
    "        if head2:\n",
    "            currSum += head2.value\n",
    "            head2 = head2.next\n",
    "        if carryOver:\n",
    "            currSum += carryOver\n",
    "        currNodeVal = Node(currSum % 10)\n",
    "        dummy.next = currNodeVal\n",
    "        dummy = dummy.next\n",
    "        carryOver = currSum // 10\n",
    "    return temp.next\n",
    "        "
   ]
  },
  {
   "cell_type": "code",
   "execution_count": null,
   "id": "2f8c85b2",
   "metadata": {},
   "outputs": [],
   "source": [
    "def findIntersection(head1,head2):\n",
    "    hashMap = {}\n",
    "    while head1 != None:\n",
    "        hashMap[head1] = 1\n",
    "        head1 = head1.next\n",
    "    while head2 != None:\n",
    "        if head2 in hashMap:\n",
    "            return head2\n",
    "        head2 = head2.next\n",
    "    return None\n",
    "\n",
    "def findIntersection(head1,head2):\n",
    "    flag = 0\n",
    "    base1, base2 = head1, head2\n",
    "    while flag != 3:\n",
    "        if head1 == head2:\n",
    "            return head1\n",
    "        if head1 != None:\n",
    "            head1 = head1.next\n",
    "        else:\n",
    "            head1 = base2\n",
    "            flag += 1\n",
    "        if head2 != None:\n",
    "            head2 = head2.next\n",
    "        else:\n",
    "            head2 = base1\n",
    "            flag += 1"
   ]
  },
  {
   "cell_type": "code",
   "execution_count": null,
   "id": "89afc488",
   "metadata": {},
   "outputs": [],
   "source": [
    "def cycleDetect(head):\n",
    "    slow, fast = head, head\n",
    "    while fast.next and fast.next.next:\n",
    "        slow = slow.next\n",
    "        fast = fast.next.next\n",
    "        if slow == fast:\n",
    "            return True\n",
    "    return False\n"
   ]
  },
  {
   "cell_type": "code",
   "execution_count": 11,
   "id": "c404e25d",
   "metadata": {},
   "outputs": [],
   "source": [
    "def isPalindrome(self, head) -> bool:\n",
    "    slow, fast = head, head\n",
    "    while fast.next and fast.next.next:\n",
    "        slow = slow.next\n",
    "        fast = fast.next.next\n",
    "    midLL = slow.next\n",
    "    def reverseLL(root):\n",
    "        if root is None or root.next is None:\n",
    "            return root,root\n",
    "        sHead, sTail = reverseLL(root.next)\n",
    "        sTail.next = root\n",
    "        root.next = None\n",
    "        return sHead,root\n",
    "    midRevLL, fast = reverseLL(midLL)\n",
    "    slow.next = midRevLL\n",
    "    slow = slow.next\n",
    "    while slow != None:\n",
    "        if slow.val != head.val:\n",
    "            return False\n",
    "        slow = slow.next\n",
    "        head = head.next\n",
    "    return True\n"
   ]
  },
  {
   "cell_type": "code",
   "execution_count": null,
   "id": "41edbc92",
   "metadata": {},
   "outputs": [],
   "source": []
  }
 ],
 "metadata": {
  "kernelspec": {
   "display_name": "Python 3 (ipykernel)",
   "language": "python",
   "name": "python3"
  },
  "language_info": {
   "codemirror_mode": {
    "name": "ipython",
    "version": 3
   },
   "file_extension": ".py",
   "mimetype": "text/x-python",
   "name": "python",
   "nbconvert_exporter": "python",
   "pygments_lexer": "ipython3",
   "version": "3.9.7"
  }
 },
 "nbformat": 4,
 "nbformat_minor": 5
}
