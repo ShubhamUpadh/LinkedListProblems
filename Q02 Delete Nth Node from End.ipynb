{
 "cells": [
  {
   "cell_type": "code",
   "execution_count": null,
   "id": "ea6c7786",
   "metadata": {},
   "outputs": [],
   "source": [
    "#boilerplate for LL\n",
    "\n",
    "class Node:\n",
    "    def __init__(self,data):\n",
    "        self.data = data\n",
    "        self.next = None\n",
    "        \n",
    "def printLL(head):\n",
    "    while head != None:\n",
    "        print(head.data,end =\" -> \")\n",
    "        head = head.next\n",
    "    \n",
    "    print(\"None\")\n",
    "    \n",
    "def takeInput():\n",
    "    ls = [1,2,3,4,5]\n",
    "    #ls = [int(ele) for ele in input().split(\" \")]\n",
    "    print(ls)\n",
    "    \n",
    "    head, tail = None, None\n",
    "    \n",
    "    for element in ls:\n",
    "        if element == -1:\n",
    "            break\n",
    "        newNode = Node(element)\n",
    "        if head == None:\n",
    "            head = newNode\n",
    "            tail = newNode\n",
    "        else:\n",
    "            tail.next = newNode\n",
    "            tail = newNode\n",
    "    \n",
    "    return head\n"
   ]
  }
 ],
 "metadata": {
  "kernelspec": {
   "display_name": "Python 3 (ipykernel)",
   "language": "python",
   "name": "python3"
  },
  "language_info": {
   "codemirror_mode": {
    "name": "ipython",
    "version": 3
   },
   "file_extension": ".py",
   "mimetype": "text/x-python",
   "name": "python",
   "nbconvert_exporter": "python",
   "pygments_lexer": "ipython3",
   "version": "3.9.7"
  }
 },
 "nbformat": 4,
 "nbformat_minor": 5
}
