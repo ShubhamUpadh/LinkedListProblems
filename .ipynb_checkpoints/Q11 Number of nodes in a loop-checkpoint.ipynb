{
 "cells": [
  {
   "cell_type": "code",
   "execution_count": null,
   "id": "e3571534",
   "metadata": {},
   "outputs": [],
   "source": [
    "\n",
    "#Function to find the length of a loop in the linked list.\n",
    "def countNodesinLoop(head):\n",
    "    #Your code here\n",
    "    \n",
    "    slow, fast = head, head\n",
    "    \n",
    "    while fast.next and fast.next.next:\n",
    "        \n",
    "        fast = fast.next.next\n",
    "        slow = slow.next\n",
    "        \n",
    "        if fast == slow:\n",
    "            break\n",
    "    \n",
    "    if fast.next == None or fast.next.next == None:     # No Loop\n",
    "        return 0\n",
    "    \n",
    "    fast = head\n",
    "    \n",
    "    while fast != slow:     # reach the start point of the loop\n",
    "        slow = slow.next\n",
    "        fast = fast.next\n",
    "        \n",
    "        if slow == fast:\n",
    "            break\n",
    "    \n",
    "    lenLoop = 1\n",
    "    slow = slow.next\n",
    "    \n",
    "    while slow != fast:\n",
    "        lenLoop += 1\n",
    "        slow = slow.next\n",
    "    \n",
    "    return lenLoop"
   ]
  }
 ],
 "metadata": {
  "kernelspec": {
   "display_name": "Python 3 (ipykernel)",
   "language": "python",
   "name": "python3"
  },
  "language_info": {
   "codemirror_mode": {
    "name": "ipython",
    "version": 3
   },
   "file_extension": ".py",
   "mimetype": "text/x-python",
   "name": "python",
   "nbconvert_exporter": "python",
   "pygments_lexer": "ipython3",
   "version": "3.9.7"
  }
 },
 "nbformat": 4,
 "nbformat_minor": 5
}
