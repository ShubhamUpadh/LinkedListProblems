{
 "cells": [
  {
   "cell_type": "code",
   "execution_count": null,
   "id": "51e66576",
   "metadata": {},
   "outputs": [],
   "source": [
    "def merged(head1, head2):\n",
    "    \n",
    "    dummy = Node(0)\n",
    "    res = dummy\n",
    "    \n",
    "    while head1 and head2:\n",
    "        \n",
    "        if head1.data > head2.data:\n",
    "            dummy.child = head2\n",
    "            head2 = head2.child\n",
    "        else:\n",
    "            dummy.child = head1\n",
    "            head1 = head1.child\n",
    "        dummy = dummy.next\n",
    "    \n",
    "    if head1 == None:\n",
    "        dummy.child = head2\n",
    "    elif head2 == None:\n",
    "        dummy.child = head1    \n",
    "    \n",
    "    return res.child\n",
    "\n",
    "def flatten(head):\n",
    "    \n",
    "    if head == None or head.next == None:\n",
    "        return head\n",
    "    \n",
    "    retList = flatten(head.next)\n",
    "    mergedList = merged(head,head.next)\n",
    "    \n",
    "    return mergedList"
   ]
  }
 ],
 "metadata": {
  "kernelspec": {
   "display_name": "Python 3 (ipykernel)",
   "language": "python",
   "name": "python3"
  },
  "language_info": {
   "codemirror_mode": {
    "name": "ipython",
    "version": 3
   },
   "file_extension": ".py",
   "mimetype": "text/x-python",
   "name": "python",
   "nbconvert_exporter": "python",
   "pygments_lexer": "ipython3",
   "version": "3.9.7"
  }
 },
 "nbformat": 4,
 "nbformat_minor": 5
}
