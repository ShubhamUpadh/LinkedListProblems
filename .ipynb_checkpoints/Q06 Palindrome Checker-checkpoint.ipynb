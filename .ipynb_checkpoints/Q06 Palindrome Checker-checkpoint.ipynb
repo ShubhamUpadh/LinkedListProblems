{
 "cells": [
  {
   "cell_type": "code",
   "execution_count": 1,
   "id": "1dcae4c6",
   "metadata": {},
   "outputs": [],
   "source": [
    "def reverseLL(head):\n",
    "    \n",
    "    if head == None or head.next == None:\n",
    "        return head, head\n",
    "    \n",
    "    smallHead, smallTail = reverseLL(head.next)\n",
    "    \n",
    "    smallTail.next = head\n",
    "    head.next = None\n",
    "    \n",
    "    return smallHead, head"
   ]
  },
  {
   "cell_type": "code",
   "execution_count": null,
   "id": "c67a73a0",
   "metadata": {},
   "outputs": [],
   "source": [
    "def copyLL(head):\n",
    "    \n",
    "    dummy = Node(0)\n",
    "    temp = dummy\n",
    "    \n",
    "    while head != None:\n",
    "        newNode = Node(head.data)\n",
    "        temp.next = newNode\n",
    "        head = head.next\n",
    "    \n",
    "    return dummy.next\n",
    "\n"
   ]
  },
  {
   "cell_type": "code",
   "execution_count": null,
   "id": "1a876fc7",
   "metadata": {},
   "outputs": [],
   "source": [
    "\n",
    "def isPalindrome(head):\n",
    "    # write your code here\n",
    "    \n",
    "    slow, fast = head, head\n",
    "    \n",
    "    while True:         # Portion to find the mid of LL\n",
    "        if fast.next == None or fast.next.next == None:\n",
    "            break\n",
    "        slow = slow.next\n",
    "        fast = fast.next.next\n",
    "    \n",
    "    midNext = slow.next\n",
    "\n",
    "\n",
    "    def reverseLL(head):\n",
    "        if head == None or head.next == None:\n",
    "            return head, head\n",
    "\n",
    "        smallHead, smallTail = reverseLL(head)\n",
    "\n",
    "        smallTail.next = head\n",
    "        head.next = None\n",
    "\n",
    "        return smallHead, head\n",
    "    \n",
    "    revLL, tail = reverseLL(midNext)        # Reverse the right half of LL\n",
    "\n",
    "    slow.next = revLL   # Add the reversed LL to existing LL\n",
    "    slow = slow.next    # Move the slow pointer to next pointer\n",
    "\n",
    "    while slow != None:     # Keep on checking if these are equal or not\n",
    "        if head.data != slow.data:\n",
    "            return False\n",
    "        head = head.next\n",
    "        slow = slow.next\n",
    "    \n",
    "    return True"
   ]
  }
 ],
 "metadata": {
  "kernelspec": {
   "display_name": "Python 3 (ipykernel)",
   "language": "python",
   "name": "python3"
  },
  "language_info": {
   "codemirror_mode": {
    "name": "ipython",
    "version": 3
   },
   "file_extension": ".py",
   "mimetype": "text/x-python",
   "name": "python",
   "nbconvert_exporter": "python",
   "pygments_lexer": "ipython3",
   "version": "3.9.7"
  }
 },
 "nbformat": 4,
 "nbformat_minor": 5
}
