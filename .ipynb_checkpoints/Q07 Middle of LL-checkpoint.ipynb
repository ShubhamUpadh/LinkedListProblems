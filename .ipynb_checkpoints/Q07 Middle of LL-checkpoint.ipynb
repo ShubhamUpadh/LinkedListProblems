{
 "cells": [
  {
   "cell_type": "code",
   "execution_count": null,
   "id": "d18edaaf",
   "metadata": {},
   "outputs": [],
   "source": [
    "Isme hume middle node find karna hai\n",
    "aur agar even umber of nodes hai to second node return karna hai"
   ]
  },
  {
   "cell_type": "code",
   "execution_count": null,
   "id": "df1a06b0",
   "metadata": {},
   "outputs": [],
   "source": [
    "def findMiddle(head):\n",
    "    if head == None:\n",
    "        return None\n",
    "    # Write your code here\n",
    "    # head denoted head of linked list\n",
    "    \n",
    "    lenLL = 0\n",
    "\n",
    "    newHead = head\n",
    "\n",
    "    while newHead != None:\n",
    "        lenLL += 1\n",
    "        newHead = newHead.next\n",
    "    \n",
    "    midEl = lenLL // 2\n",
    "    \n",
    "    while midEl > 0:\n",
    "        head = head.next\n",
    "        midEl -= 1\n",
    "    \n",
    "    return head"
   ]
  },
  {
   "cell_type": "code",
   "execution_count": null,
   "id": "70672a1f",
   "metadata": {},
   "outputs": [],
   "source": [
    "\n",
    "def findMiddle(head):\n",
    "    slow, fast = head, head\n",
    "\n",
    "    while True:\n",
    "        if fast.next == None:\n",
    "            return slow\n",
    "        elif fast.next.next == None:\n",
    "            return slow.next\n",
    "        \n",
    "        fast = fast.next.next\n",
    "        slow = slow.next"
   ]
  }
 ],
 "metadata": {
  "kernelspec": {
   "display_name": "Python 3 (ipykernel)",
   "language": "python",
   "name": "python3"
  },
  "language_info": {
   "codemirror_mode": {
    "name": "ipython",
    "version": 3
   },
   "file_extension": ".py",
   "mimetype": "text/x-python",
   "name": "python",
   "nbconvert_exporter": "python",
   "pygments_lexer": "ipython3",
   "version": "3.9.7"
  }
 },
 "nbformat": 4,
 "nbformat_minor": 5
}
