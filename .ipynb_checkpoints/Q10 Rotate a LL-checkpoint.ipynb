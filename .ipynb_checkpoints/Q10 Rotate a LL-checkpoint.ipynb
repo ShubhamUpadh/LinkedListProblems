{
 "cells": [
  {
   "cell_type": "code",
   "execution_count": null,
   "id": "bf8d8596",
   "metadata": {},
   "outputs": [],
   "source": [
    "def rotateLL(head,k):\n",
    "    \n",
    "    lenLL = 0\n",
    "    \n",
    "    dummy = head\n",
    "    \n",
    "    while dummy.next != None:\n",
    "        dummy = dummy.next\n",
    "        lenLL += 1\n",
    "        \n",
    "    dummy.next = head\n",
    "    \n",
    "    lenLL += 1\n",
    "    \n",
    "    if k == lenLL:\n",
    "        return head\n",
    "    else:\n",
    "        k = k % lenLL\n",
    "        \n",
    "    dummy.next = head\n",
    "    dummy = head\n",
    "    \n",
    "    for i in range(0, lenLL - k - 1):\n",
    "        dummy = dummy.next\n",
    "    dummy.next = None\n",
    "    \n",
    "    return head\n",
    "    \n",
    "    \n",
    "\n",
    "    "
   ]
  }
 ],
 "metadata": {
  "kernelspec": {
   "display_name": "Python 3 (ipykernel)",
   "language": "python",
   "name": "python3"
  },
  "language_info": {
   "codemirror_mode": {
    "name": "ipython",
    "version": 3
   },
   "file_extension": ".py",
   "mimetype": "text/x-python",
   "name": "python",
   "nbconvert_exporter": "python",
   "pygments_lexer": "ipython3",
   "version": "3.9.7"
  }
 },
 "nbformat": 4,
 "nbformat_minor": 5
}
