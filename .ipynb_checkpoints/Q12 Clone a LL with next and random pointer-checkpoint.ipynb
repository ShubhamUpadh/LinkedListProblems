{
 "cells": [
  {
   "cell_type": "code",
   "execution_count": null,
   "id": "cd7f29f1",
   "metadata": {},
   "outputs": [],
   "source": [
    "def cloneLL(head):\n",
    "    \n",
    "    hashMap = dict()\n",
    "    nhead = head\n",
    "    \n",
    "    while nhead != None:\n",
    "        newNode = Node(nhead.data)\n",
    "        hashMap[nhead] = newNode\n",
    "        \n",
    "        nhead = nhead.next\n",
    "    \n",
    "    nhead = head\n",
    "    \n",
    "    while nhead != None:\n",
    "        newNode = hashMap[nhead]\n",
    "        newNode.next = hashMap[nhead.next]\n",
    "        newNode.random = hashMap[nhead.random]\n",
    "        \n",
    "        nhead = nhead.next\n",
    "    \n",
    "    return hashMap[head]\n",
    "\n"
   ]
  },
  {
   "cell_type": "code",
   "execution_count": null,
   "id": "57964887",
   "metadata": {},
   "outputs": [],
   "source": [
    "def cloneLL(head):\n",
    "    \n",
    "    nhead = head\n",
    "    \n",
    "    while nhead != None:    # weaving done\n",
    "        \n",
    "        newNode = Node(nhead.data)\n",
    "        newNode.next = nhead.next\n",
    "        nhead.next = newNode\n",
    "        \n",
    "        nhead = nhead.next.next\n",
    "    \n",
    "    nhead = head\n",
    "    \n",
    "    while nhead != None: # random pointing done\n",
    "        \n",
    "        if nhead.random:      \n",
    "            nhead.next.random = nhead.random.next\n",
    "        \n",
    "        nhead = nhead.next.next\n",
    "    \n",
    "    dummy = Node(0)\n",
    "    dummy.next = head.next\n",
    "    \n",
    "    nhead = head\n",
    "    \n",
    "    while nhead != None:    # links broken\n",
    "        \n",
    "        temp = nhead.next\n",
    "        \n",
    "        nhead.next = nhead.next.next\n",
    "        nhead = nhead.next\n",
    "        \n",
    "        temp.next = nhead.next\n",
    "    \n",
    "    return dummy.next\n",
    "        \n",
    "    \n",
    "    \n",
    "        \n",
    "        \n",
    "        \n",
    "        "
   ]
  }
 ],
 "metadata": {
  "kernelspec": {
   "display_name": "Python 3 (ipykernel)",
   "language": "python",
   "name": "python3"
  },
  "language_info": {
   "codemirror_mode": {
    "name": "ipython",
    "version": 3
   },
   "file_extension": ".py",
   "mimetype": "text/x-python",
   "name": "python",
   "nbconvert_exporter": "python",
   "pygments_lexer": "ipython3",
   "version": "3.9.7"
  }
 },
 "nbformat": 4,
 "nbformat_minor": 5
}
