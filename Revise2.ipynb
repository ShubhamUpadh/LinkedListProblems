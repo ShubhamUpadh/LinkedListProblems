{
 "cells": [
  {
   "cell_type": "code",
   "execution_count": 1,
   "id": "c428eed0",
   "metadata": {},
   "outputs": [],
   "source": [
    "class Node:\n",
    "    def __init__(self,value):\n",
    "        self.value = value\n",
    "        self.next = None"
   ]
  },
  {
   "cell_type": "code",
   "execution_count": 3,
   "id": "18999c51",
   "metadata": {},
   "outputs": [],
   "source": [
    "def cycleStart(head):   # Time - On, Space On\n",
    "    hashMap = {}\n",
    "    while head != None:\n",
    "        if head in hashMap:\n",
    "            return head\n",
    "        else:\n",
    "            hashMap[head] = 1\n",
    "        head = head.next\n",
    "    return None\n",
    "\n",
    "def cycleStart(head):\n",
    "    slow, fast = head, head\n",
    "    while fast.next and fast.next.next:\n",
    "        slow = slow.next\n",
    "        fast = fast.next.next\n",
    "        if slow == fast:\n",
    "            break\n",
    "    else:\n",
    "        return None\n",
    "    fast = head\n",
    "    while True:\n",
    "        if slow == fast:\n",
    "            return slow\n",
    "        slow = slow.next\n",
    "        fast = fast.next"
   ]
  },
  {
   "cell_type": "code",
   "execution_count": null,
   "id": "3ffd5b12",
   "metadata": {},
   "outputs": [],
   "source": [
    "class Node:\n",
    "    def __init__(self,value):\n",
    "        self.value = value\n",
    "        self.next = None\n",
    "        self.child = None\n",
    "\n",
    "def mergeLL(head1,head2):\n",
    "    dummy = Node(0)\n",
    "    temp = dummy\n",
    "    while head1 and head2:\n",
    "        if head1.value > head2.value:\n",
    "            dummy = head2\n",
    "            head2 = head2.next\n",
    "        else:\n",
    "            dummy = head1\n",
    "            head1 = head1.next\n",
    "        dummy = dummy.next\n",
    "    if head1 is None:\n",
    "        dummy.next = head2\n",
    "    else:\n",
    "        dummy.next = head1\n",
    "    return temp.next\n",
    "\n",
    "def flattenLL(head):\n",
    "    if head is None or head.next is None:\n",
    "        return head\n",
    "    flattenedList = flatten(head.next)\n",
    "    currListFlattened = merge(head,flattenedList)\n",
    "    return currListFlattened"
   ]
  }
 ],
 "metadata": {
  "kernelspec": {
   "display_name": "Python 3 (ipykernel)",
   "language": "python",
   "name": "python3"
  },
  "language_info": {
   "codemirror_mode": {
    "name": "ipython",
    "version": 3
   },
   "file_extension": ".py",
   "mimetype": "text/x-python",
   "name": "python",
   "nbconvert_exporter": "python",
   "pygments_lexer": "ipython3",
   "version": "3.9.7"
  }
 },
 "nbformat": 4,
 "nbformat_minor": 5
}
