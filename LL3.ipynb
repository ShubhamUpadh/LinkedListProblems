{
 "cells": [
  {
   "cell_type": "code",
   "execution_count": 19,
   "id": "2ed85ddb",
   "metadata": {},
   "outputs": [],
   "source": [
    "#Merge two sorted LLs\n",
    "\n",
    "class Node:\n",
    "    def __init__(self,data):\n",
    "        self.data = data\n",
    "        self.next = None\n",
    "\n",
    "def printLL(head):\n",
    "    temp = head\n",
    "    while temp!= None:\n",
    "        print(str(temp.data) + \" -> \",end=\"\")\n",
    "        temp = temp.next\n",
    "    print(\"None\")\n",
    "\n",
    "def takeinput():\n",
    "    arr = list(int(element) for element in input(\"Input the linked list elements\").split(\" \"))\n",
    "    \n",
    "    head, tail = None, None\n",
    "    \n",
    "    for i in arr:\n",
    "        \n",
    "        if i == -1:\n",
    "            break\n",
    "        \n",
    "        newNode = Node(i)\n",
    "        \n",
    "        if head == None:\n",
    "            head = newNode\n",
    "            tail = newNode\n",
    "        \n",
    "        else:\n",
    "            tail.next = newNode\n",
    "            tail = newNode\n",
    "    \n",
    "    return head"
   ]
  },
  {
   "cell_type": "code",
   "execution_count": 20,
   "id": "d55c8b84",
   "metadata": {},
   "outputs": [
    {
     "name": "stdout",
     "output_type": "stream",
     "text": [
      "Input the linked list elements1 3 5 7\n",
      "1 -> 3 -> 5 -> 7 -> None\n"
     ]
    }
   ],
   "source": [
    "# input ll 1\n",
    "head1 = takeinput()\n",
    "printLL(head1)"
   ]
  },
  {
   "cell_type": "code",
   "execution_count": 21,
   "id": "264825e7",
   "metadata": {},
   "outputs": [
    {
     "name": "stdout",
     "output_type": "stream",
     "text": [
      "Input the linked list elements2 4 6 8\n",
      "2 -> 4 -> 6 -> 8 -> None\n"
     ]
    }
   ],
   "source": [
    "# input LL2\n",
    "head2 = takeinput()\n",
    "printLL(head2)"
   ]
  },
  {
   "cell_type": "code",
   "execution_count": 22,
   "id": "d6a0b9fd",
   "metadata": {},
   "outputs": [
    {
     "ename": "KeyboardInterrupt",
     "evalue": "",
     "output_type": "error",
     "traceback": [
      "\u001b[1;31m---------------------------------------------------------------------------\u001b[0m",
      "\u001b[1;31mKeyboardInterrupt\u001b[0m                         Traceback (most recent call last)",
      "\u001b[1;32m~\\AppData\\Local\\Temp/ipykernel_13644/3607639872.py\u001b[0m in \u001b[0;36m<module>\u001b[1;34m\u001b[0m\n\u001b[0;32m     35\u001b[0m     \u001b[1;32mreturn\u001b[0m \u001b[0mtrueHead\u001b[0m\u001b[1;33m\u001b[0m\u001b[1;33m\u001b[0m\u001b[0m\n\u001b[0;32m     36\u001b[0m \u001b[1;33m\u001b[0m\u001b[0m\n\u001b[1;32m---> 37\u001b[1;33m \u001b[0mmergedLL\u001b[0m \u001b[1;33m=\u001b[0m \u001b[0mmergeLL\u001b[0m\u001b[1;33m(\u001b[0m\u001b[0mcopyHead1\u001b[0m\u001b[1;33m,\u001b[0m\u001b[0mcopyHead2\u001b[0m\u001b[1;33m)\u001b[0m\u001b[1;33m\u001b[0m\u001b[1;33m\u001b[0m\u001b[0m\n\u001b[0m\u001b[0;32m     38\u001b[0m \u001b[1;33m\u001b[0m\u001b[0m\n\u001b[0;32m     39\u001b[0m \u001b[0mprintLL\u001b[0m\u001b[1;33m(\u001b[0m\u001b[0mmergedLL\u001b[0m\u001b[1;33m)\u001b[0m\u001b[1;33m\u001b[0m\u001b[1;33m\u001b[0m\u001b[0m\n",
      "\u001b[1;32m~\\AppData\\Local\\Temp/ipykernel_13644/3607639872.py\u001b[0m in \u001b[0;36mmergeLL\u001b[1;34m(cHead1, cHead2)\u001b[0m\n\u001b[0;32m     15\u001b[0m     \u001b[1;32mwhile\u001b[0m \u001b[0mcHead1\u001b[0m \u001b[1;33m!=\u001b[0m \u001b[1;32mNone\u001b[0m \u001b[1;32mand\u001b[0m \u001b[0mcHead2\u001b[0m \u001b[1;33m!=\u001b[0m \u001b[1;32mNone\u001b[0m\u001b[1;33m:\u001b[0m\u001b[1;33m\u001b[0m\u001b[1;33m\u001b[0m\u001b[0m\n\u001b[0;32m     16\u001b[0m \u001b[1;33m\u001b[0m\u001b[0m\n\u001b[1;32m---> 17\u001b[1;33m         \u001b[1;32mif\u001b[0m \u001b[0mcHead1\u001b[0m\u001b[1;33m.\u001b[0m\u001b[0mdata\u001b[0m \u001b[1;33m<\u001b[0m \u001b[0mcHead2\u001b[0m\u001b[1;33m.\u001b[0m\u001b[0mdata\u001b[0m\u001b[1;33m:\u001b[0m\u001b[1;33m\u001b[0m\u001b[1;33m\u001b[0m\u001b[0m\n\u001b[0m\u001b[0;32m     18\u001b[0m \u001b[1;33m\u001b[0m\u001b[0m\n\u001b[0;32m     19\u001b[0m             \u001b[0mcurr\u001b[0m\u001b[1;33m.\u001b[0m\u001b[0mnext\u001b[0m \u001b[1;33m=\u001b[0m \u001b[0mcHead1\u001b[0m\u001b[1;33m\u001b[0m\u001b[1;33m\u001b[0m\u001b[0m\n",
      "\u001b[1;31mKeyboardInterrupt\u001b[0m: "
     ]
    }
   ],
   "source": [
    "# merge two sorted LLs\n",
    "\n",
    "copyHead1 = head1\n",
    "copyHead2 = head2\n",
    "\n",
    "def mergeLL(cHead1,cHead2):\n",
    "    \n",
    "    if cHead1.data < cHead2.data:\n",
    "        trueHead = cHead1\n",
    "        curr = cHead1\n",
    "    else:\n",
    "        trueHead = cHead2\n",
    "        curr = cHead2\n",
    "    \n",
    "    while cHead1 != None and cHead2 != None:\n",
    "        \n",
    "        if cHead1.data < cHead2.data:\n",
    "            \n",
    "            curr.next = cHead1\n",
    "            curr = curr.next\n",
    "            cHead1 = cHead1.next\n",
    "            \n",
    "        else:\n",
    "            \n",
    "            curr.next = cHead2\n",
    "            curr = curr.next\n",
    "            cHead2 = cHead2.next\n",
    "        \n",
    "    \n",
    "    if cHead1 != None:\n",
    "        curr.next = cHead1\n",
    "    else:\n",
    "        curr.next = cHead2\n",
    "    \n",
    "    return trueHead\n",
    "\n",
    "mergedLL = mergeLL(copyHead1,copyHead2)\n",
    "\n",
    "printLL(mergedLL)\n",
    "    \n",
    "    "
   ]
  }
 ],
 "metadata": {
  "kernelspec": {
   "display_name": "Python 3 (ipykernel)",
   "language": "python",
   "name": "python3"
  },
  "language_info": {
   "codemirror_mode": {
    "name": "ipython",
    "version": 3
   },
   "file_extension": ".py",
   "mimetype": "text/x-python",
   "name": "python",
   "nbconvert_exporter": "python",
   "pygments_lexer": "ipython3",
   "version": "3.9.7"
  }
 },
 "nbformat": 4,
 "nbformat_minor": 5
}
