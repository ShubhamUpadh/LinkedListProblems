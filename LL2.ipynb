{
 "cells": [
  {
   "cell_type": "code",
   "execution_count": 13,
   "id": "236e05e6",
   "metadata": {},
   "outputs": [
    {
     "name": "stdout",
     "output_type": "stream",
     "text": [
      "[1, 2, 3, 4, 5]\n",
      "1 -> 2 -> 3 -> 4 -> 5 -> None\n"
     ]
    }
   ],
   "source": [
    "class Node:\n",
    "    def __init__(self,data):\n",
    "        self.data = data\n",
    "        self.next = None\n",
    "def printLL(head):\n",
    "    while head != None:\n",
    "        print(head.data,end =\" -> \")\n",
    "        head = head.next\n",
    "    \n",
    "    print(\"None\")\n",
    "    \n",
    "def takeInput():\n",
    "    ls = [1,2,3,4,5]\n",
    "    #ls = [int(ele) for ele in input().split(\" \")]\n",
    "    print(ls)\n",
    "    \n",
    "    head, tail = None, None\n",
    "    \n",
    "    for element in ls:\n",
    "        if element == -1:\n",
    "            break\n",
    "        newNode = Node(element)\n",
    "        if head == None:\n",
    "            head = newNode\n",
    "            tail = newNode\n",
    "        else:\n",
    "            tail.next = newNode\n",
    "            tail = newNode\n",
    "    \n",
    "    return head\n",
    "\n",
    "hd = takeInput()\n",
    "printLL(hd)\n"
   ]
  },
  {
   "cell_type": "code",
   "execution_count": 5,
   "id": "f956c36a",
   "metadata": {},
   "outputs": [
    {
     "name": "stdout",
     "output_type": "stream",
     "text": [
      "1 -> 2 -> 3 -> 4 -> 5 -> None\n",
      "1 -> 2 -> 3 -> 4 -> 5 -> None\n",
      "1\n",
      "2 -> 3 -> 4 -> 5 -> None\n",
      "2\n",
      "3 -> 4 -> 5 -> None\n",
      "3\n",
      "4 -> 5 -> None\n",
      "4\n",
      "5 -> None\n",
      "5\n",
      "5 -> 4 -> 3 -> 2 -> 1 -> None\n"
     ]
    }
   ],
   "source": [
    "#Reverse a LL\n",
    "\n",
    "printLL(hd)\n",
    "\n",
    "def reverseLL(head):\n",
    "    printLL(head)\n",
    "    print(head.data)\n",
    "    if head == None or head.next == None:\n",
    "        return head\n",
    "    \n",
    "    smallHead = reverseLL(head.next)\n",
    "    \n",
    "    tailF = smallHead\n",
    "    \n",
    "    while tailF.next != None:\n",
    "        tailF = tailF.next\n",
    "    \n",
    "    tailF.next = head\n",
    "    head.next = None\n",
    "    #printLL(smallHead)\n",
    "    return smallHead\n",
    "nhd = hd\n",
    "newHd = reverseLL(nhd)\n",
    "printLL(newHd)\n",
    "\n"
   ]
  },
  {
   "cell_type": "code",
   "execution_count": 3,
   "id": "a7dcee58",
   "metadata": {},
   "outputs": [
    {
     "name": "stdout",
     "output_type": "stream",
     "text": [
      "5 -> 4 -> 3 -> 2 -> 1 -> None\n"
     ]
    }
   ],
   "source": [
    "def reverseLL2(head):\n",
    "    if head == None or head.next == None:\n",
    "        return head\n",
    "    \n",
    "    rest = reverseLL2(head.next)\n",
    "    \n",
    "    head.next.next = head\n",
    "    head.next = None\n",
    "    return rest\n",
    "\n",
    "nnhd = hd\n",
    "newnewhd = reverseLL2(nnhd)\n",
    "printLL(newnewhd)"
   ]
  },
  {
   "cell_type": "code",
   "execution_count": 15,
   "id": "d36461e4",
   "metadata": {},
   "outputs": [
    {
     "name": "stdout",
     "output_type": "stream",
     "text": [
      "[1, 2, 3, 4, 5]\n",
      "1 -> 2 -> 3 -> 4 -> 5 -> None\n",
      "1 -> 2 -> 3 -> 4 -> 5 -> None\n",
      "5 -> 4 -> 3 -> 2 -> 1 -> None\n"
     ]
    }
   ],
   "source": [
    "class Node:\n",
    "    def __init__(self,data):\n",
    "        self.data = data\n",
    "        self.next = None\n",
    "def printLL(head):\n",
    "    while head != None:\n",
    "        print(head.data,end =\" -> \")\n",
    "        head = head.next\n",
    "    \n",
    "    print(\"None\")\n",
    "    \n",
    "def takeInput():\n",
    "    ls = [1,2,3,4,5]\n",
    "    #ls = [int(ele) for ele in input().split(\" \")]\n",
    "    print(ls)\n",
    "    \n",
    "    head, tail = None, None\n",
    "    \n",
    "    for element in ls:\n",
    "        if element == -1:\n",
    "            break\n",
    "        newNode = Node(element)\n",
    "        if head == None:\n",
    "            head = newNode\n",
    "            tail = newNode\n",
    "        else:\n",
    "            tail.next = newNode\n",
    "            tail = newNode\n",
    "    \n",
    "    return head\n",
    "\n",
    "hd = takeInput()\n",
    "printLL(hd)\n",
    "\n",
    "def reverseLL3(head):\n",
    "    if head == None:\n",
    "        return None\n",
    "    if head.next == None:\n",
    "        return head, head\n",
    "    \n",
    "    SH, ST = reverseLL3(head.next)\n",
    "    ST.next = head\n",
    "    head.next = None\n",
    "    \n",
    "    return SH, head\n",
    "\n",
    "qhd = hd\n",
    "printLL(qhd)\n",
    "qwhd,blank = reverseLL3(qhd)\n",
    "printLL(qwhd)"
   ]
  }
 ],
 "metadata": {
  "kernelspec": {
   "display_name": "Python 3 (ipykernel)",
   "language": "python",
   "name": "python3"
  },
  "language_info": {
   "codemirror_mode": {
    "name": "ipython",
    "version": 3
   },
   "file_extension": ".py",
   "mimetype": "text/x-python",
   "name": "python",
   "nbconvert_exporter": "python",
   "pygments_lexer": "ipython3",
   "version": "3.9.7"
  }
 },
 "nbformat": 4,
 "nbformat_minor": 5
}
