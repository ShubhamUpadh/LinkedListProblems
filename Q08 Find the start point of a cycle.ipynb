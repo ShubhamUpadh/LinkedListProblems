{
 "cells": [
  {
   "cell_type": "code",
   "execution_count": null,
   "id": "ffa0d6f1",
   "metadata": {},
   "outputs": [],
   "source": [
    "def startCycle(head):\n",
    "    \n",
    "    hashMap = dict()\n",
    "    \n",
    "    j = 0\n",
    "    \n",
    "    while head != None:\n",
    "        \n",
    "        if hashMap.get(head,\"DNE\") != \"DNE\":\n",
    "            return head\n",
    "        hashMap[head] = j\n",
    "        j += 1\n",
    "    \n",
    "    return None"
   ]
  },
  {
   "cell_type": "code",
   "execution_count": null,
   "id": "cdc372c5",
   "metadata": {},
   "outputs": [],
   "source": [
    "def startCycle(head):\n",
    "\n",
    "    slow, fast = head, head\n",
    "\n",
    "    while fast.next and fast.next.next:\n",
    "\n",
    "        slow = slow.next\n",
    "        fast = fast.next.next\n",
    "\n",
    "        if slow == fast:\n",
    "            break\n",
    "\n",
    "    if fast.next.next == None:\n",
    "        return -1\n",
    "\n",
    "    entry = head\n",
    "\n",
    "    while True:\n",
    "        if entry == slow:\n",
    "            return entry.data\n",
    "        entry = entry.next\n",
    "        slow = slow.next\n",
    "\n",
    "    #code here"
   ]
  }
 ],
 "metadata": {
  "kernelspec": {
   "display_name": "Python 3 (ipykernel)",
   "language": "python",
   "name": "python3"
  },
  "language_info": {
   "codemirror_mode": {
    "name": "ipython",
    "version": 3
   },
   "file_extension": ".py",
   "mimetype": "text/x-python",
   "name": "python",
   "nbconvert_exporter": "python",
   "pygments_lexer": "ipython3",
   "version": "3.9.7"
  }
 },
 "nbformat": 4,
 "nbformat_minor": 5
}
