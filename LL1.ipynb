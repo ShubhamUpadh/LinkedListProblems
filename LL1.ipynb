{
 "cells": [
  {
   "cell_type": "code",
   "execution_count": 2,
   "id": "ce2d275a",
   "metadata": {},
   "outputs": [],
   "source": [
    "class Node:\n",
    "    def __init__(self,data):\n",
    "        self.data = data\n",
    "        self.next = None\n",
    "def printLL(head):\n",
    "    while head != None:\n",
    "        print(head.data,end =\" -> \")\n",
    "        head = head.next\n",
    "    \n",
    "    print(\"None\")\n",
    "    \n"
   ]
  },
  {
   "cell_type": "code",
   "execution_count": 15,
   "id": "2f285b84",
   "metadata": {},
   "outputs": [],
   "source": [
    "node1 = Node(10)\n",
    "node2 = Node(20)\n",
    "node1.next = node2"
   ]
  },
  {
   "cell_type": "code",
   "execution_count": 7,
   "id": "11feefbd",
   "metadata": {},
   "outputs": [
    {
     "name": "stdout",
     "output_type": "stream",
     "text": [
      "10\n",
      "20\n"
     ]
    }
   ],
   "source": [
    "printLL(node1)"
   ]
  },
  {
   "cell_type": "code",
   "execution_count": 3,
   "id": "b98595bf",
   "metadata": {},
   "outputs": [],
   "source": [
    "#space seperated input for creating a LL\n",
    "def takeInput():\n",
    "    ls = [int(ele) for ele in input().split(\" \")]    # list input lia hai aur use fir int me convert kar dia hai\n",
    "    print(ls)\n",
    "    \n",
    "    head = None\n",
    "    \n",
    "    for element in ls:\n",
    "        if element == -1:   # we want -1 to denote the end of our LL\n",
    "            break\n",
    "        newNode = Node(element)   # current value se ek Node initialise kar dia hai\n",
    "        \n",
    "        if head == None:        # agar head exist nahi karta, to fir ye element head banega\n",
    "            head = newNode\n",
    "        else:                      \n",
    "            curr = head         # yahan par ek naya element curr use karna hai, hume head ko cheddna nahi hai\n",
    "            while curr.next != None:   # ye loop tab tak chalega jab tak hum last element tak naa pahuche\n",
    "                curr = curr.next\n",
    "            curr.next = newNode       # jaise hi hum last element par pahuchenge, hum jo naya node create hua hai, uske next \n",
    "    return head                       # me daal denge\n",
    "\n",
    "#hd = takeInput()\n",
    "#printLL(hd)"
   ]
  },
  {
   "cell_type": "code",
   "execution_count": 4,
   "id": "e5e38aa8",
   "metadata": {},
   "outputs": [],
   "source": [
    "def takeInput():\n",
    "    ls = [int(ele) for ele in input().split(\" \")]\n",
    "    print(ls)\n",
    "    \n",
    "    def reccNode(arr):\n",
    "        if arr[0] == -1:\n",
    "            return None\n",
    "        newNode = Node(arr[0])\n",
    "        newNode.next = reccNode(arr[1:])\n",
    "        return newNode\n",
    "    \n",
    "    head, tail = None, None\n",
    "    \n",
    "    for element in ls:\n",
    "        if element == -1:\n",
    "            break\n",
    "        newNode = Node(element)\n",
    "        if head == None:\n",
    "            head = newNode\n",
    "            tail = newNode\n",
    "        else:\n",
    "            tail.next = newNode\n",
    "            tail = newNode\n",
    "    \n",
    "    return head\n",
    "        \n",
    "        \n",
    "    return reccNode(ls)\n",
    "\n",
    "#hd = takeInput()\n",
    "#printLL(hd)"
   ]
  },
  {
   "cell_type": "code",
   "execution_count": 33,
   "id": "68727f22",
   "metadata": {},
   "outputs": [
    {
     "name": "stdout",
     "output_type": "stream",
     "text": [
      "1 2 3 4 5 6\n",
      "[1, 2, 3, 4, 5, 6]\n",
      "1 -> 2 -> 3 -> 4 -> 5 -> 6 -> None\n",
      "1 -> 2 -> 3 -> 4 -> 5 -> 6 -> 100 -> None\n"
     ]
    }
   ],
   "source": [
    "# inserting at ith position in a Linked List\n",
    "\n",
    "def posInsert(head,i,data):\n",
    "    \n",
    "    var = head\n",
    "    lenL = 0\n",
    "    \n",
    "    while var != None:\n",
    "        lenL += 1\n",
    "        var = var.next\n",
    "    \n",
    "    if  0 <= i <=lenL:\n",
    "        newNode = Node(data)\n",
    "        \n",
    "        if i == 0:\n",
    "            newNode.next = head\n",
    "            head = newNode\n",
    "        elif i == lenL+1:\n",
    "            while var.next != None:\n",
    "                var = var.next\n",
    "            var.next = newNode\n",
    "        else:\n",
    "            counter = 0\n",
    "            var = head\n",
    "            while counter < i-1:\n",
    "                var = var.next\n",
    "                counter += 1\n",
    "            temp = var.next\n",
    "            var.next = newNode\n",
    "            newNode.next = temp\n",
    "    return head\n",
    "\n",
    "hd = takeInput()\n",
    "printLL(hd)\n",
    "hd = posInsert(hd,6,100)\n",
    "printLL(hd)\n",
    "            \n",
    "        \n",
    "    "
   ]
  },
  {
   "cell_type": "code",
   "execution_count": 9,
   "id": "5b694b49",
   "metadata": {},
   "outputs": [],
   "source": [
    "# insert at ith pos\n",
    "\n",
    "def getLength(head):\n",
    "    \n",
    "    counter = 0\n",
    "    \n",
    "    while head != None:\n",
    "        counter += 1\n",
    "        head = head.next\n",
    "    \n",
    "    return counter\n",
    "\n",
    "def insertAtI(head,i,data):\n",
    "    l = getLength(head)\n",
    "    \n",
    "    if i < 0 or i > l:      # No change\n",
    "        return head\n",
    "    \n",
    "    \n",
    "    \n",
    "    prev, curr = None, head\n",
    "    counter = 0\n",
    "    \n",
    "    while counter < i:\n",
    "        prev = curr\n",
    "        curr = curr.next\n",
    "        counter += 1\n",
    "    \n",
    "    newNode = Node(data)\n",
    "    if prev != None:\n",
    "        prev.next = newNode\n",
    "        newNode.next = curr\n",
    "    else:\n",
    "        head = newNode\n",
    "        newNode.next = curr\n",
    "    \n",
    "    return head\n",
    "    \n",
    "    "
   ]
  },
  {
   "cell_type": "code",
   "execution_count": 7,
   "id": "8e936b15",
   "metadata": {},
   "outputs": [
    {
     "name": "stdout",
     "output_type": "stream",
     "text": [
      "1 23 34 56 77 -1\n",
      "[1, 23, 34, 56, 77, -1]\n",
      "1 -> 23 -> 34 -> 56 -> 77 -> None\n",
      "Position at which we have to insert ->  35\n",
      "Data that has to be entered ->  -1\n",
      "1 -> 23 -> 34 -> 56 -> 77 -> None\n"
     ]
    }
   ],
   "source": [
    "hd = takeInput()\n",
    "printLL(hd)\n"
   ]
  },
  {
   "cell_type": "code",
   "execution_count": 10,
   "id": "eeb171f8",
   "metadata": {},
   "outputs": [
    {
     "name": "stdout",
     "output_type": "stream",
     "text": [
      "Position at which we have to insert ->  0\n",
      "Data that has to be entered ->  -10\n",
      "-10 -> 500 -> 1 -> 23 -> 34 -> 56 -> 77 -> None\n"
     ]
    }
   ],
   "source": [
    "hd = insertAtI(hd,int(input(\"Position at which we have to insert ->  \")),int(input(\"Data that has to be entered ->  \")))\n",
    "printLL(hd)"
   ]
  },
  {
   "cell_type": "code",
   "execution_count": 22,
   "id": "bb88eebc",
   "metadata": {},
   "outputs": [
    {
     "name": "stdout",
     "output_type": "stream",
     "text": [
      "1 2 3 4 5 6\n",
      "[1, 2, 3, 4, 5, 6]\n",
      "1 -> 2 -> 3 -> 4 -> 5 -> 6 -> None\n",
      "Data that has to be entered ->  3\n",
      "Position at which we have to insert ->  5\n",
      "1 -> 2 -> 3 -> 4 -> 5 -> 3 -> 6 -> None\n"
     ]
    }
   ],
   "source": [
    "# insert at ith pos recursively\n",
    "\n",
    "def recIth(head,data,i):\n",
    "    \n",
    "    if head == None:\n",
    "        return head\n",
    "    \n",
    "    if i == 1 or 0:\n",
    "        newNode = Node(data)\n",
    "        tmp = head.next\n",
    "        head.next = newNode\n",
    "        newNode.next = tmp\n",
    "        return head\n",
    "    head.next = recIth(head.next,data,i-1)\n",
    "    return head\n",
    "\n",
    "hd = takeInput()\n",
    "printLL(hd)\n",
    "hd = recIth(hd,int(input(\"Data that has to be entered ->  \")),int(input(\"Position at which we have to insert ->  \")))\n",
    "printLL(hd)\n",
    "        "
   ]
  },
  {
   "cell_type": "code",
   "execution_count": 26,
   "id": "30af63b1",
   "metadata": {},
   "outputs": [
    {
     "name": "stdout",
     "output_type": "stream",
     "text": [
      "1 2 3 4 5 -1\n",
      "[1, 2, 3, 4, 5, -1]\n",
      "1 -> 2 -> 3 -> 4 -> 5 -> None\n",
      "Pos to be deleted ->  4\n",
      "1 -> 2 -> 3 -> 4 -> None\n"
     ]
    }
   ],
   "source": [
    "def recDeletion(head,i):\n",
    "    \n",
    "    if head == None:\n",
    "        return head\n",
    "    \n",
    "    if i == 0:\n",
    "        if head.next == None:\n",
    "            return None\n",
    "        else:\n",
    "            head = head.next\n",
    "        \n",
    "    head.next = recDeletion(head.next,i-1)\n",
    "    return head\n",
    "\n",
    "hd = takeInput()\n",
    "printLL(hd)\n",
    "hd = recDeletion(hd,int(input(\"Pos to be deleted ->  \")))\n",
    "printLL(hd) "
   ]
  }
 ],
 "metadata": {
  "kernelspec": {
   "display_name": "Python 3 (ipykernel)",
   "language": "python",
   "name": "python3"
  },
  "language_info": {
   "codemirror_mode": {
    "name": "ipython",
    "version": 3
   },
   "file_extension": ".py",
   "mimetype": "text/x-python",
   "name": "python",
   "nbconvert_exporter": "python",
   "pygments_lexer": "ipython3",
   "version": "3.9.7"
  }
 },
 "nbformat": 4,
 "nbformat_minor": 5
}
