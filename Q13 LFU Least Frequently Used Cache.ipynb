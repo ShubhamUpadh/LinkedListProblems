{
 "cells": [
  {
   "cell_type": "code",
   "execution_count": 1,
   "id": "c224eb23",
   "metadata": {},
   "outputs": [],
   "source": [
    "class Node:\n",
    "    \n",
    "    def __init__(self,key,value):\n",
    "        self.key = key\n",
    "        self.value = value\n",
    "        self.next = None\n",
    "        self.prev = None\n",
    "\n",
    "    "
   ]
  },
  {
   "cell_type": "code",
   "execution_count": null,
   "id": "18f38a50",
   "metadata": {},
   "outputs": [],
   "source": [
    "def LFUcache()\n",
    "    \n",
    "    def addnode(node):\n",
    "        pass\n",
    "    \n",
    "    def deletenode(node):\n",
    "        pass\n",
    "    \n",
    "    def get(value):\n",
    "        pass\n",
    "    \n",
    "    def put(key,value):\n",
    "        pass\n",
    "    \n",
    "    freqDict ={}\n",
    "    nodeAddress ={}\n",
    "    \n",
    "    \n",
    "    \n",
    "        \n",
    "        \n",
    "        "
   ]
  }
 ],
 "metadata": {
  "kernelspec": {
   "display_name": "Python 3 (ipykernel)",
   "language": "python",
   "name": "python3"
  },
  "language_info": {
   "codemirror_mode": {
    "name": "ipython",
    "version": 3
   },
   "file_extension": ".py",
   "mimetype": "text/x-python",
   "name": "python",
   "nbconvert_exporter": "python",
   "pygments_lexer": "ipython3",
   "version": "3.9.7"
  }
 },
 "nbformat": 4,
 "nbformat_minor": 5
}
