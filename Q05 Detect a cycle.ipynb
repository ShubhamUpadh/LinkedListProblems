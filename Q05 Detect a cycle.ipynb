{
 "cells": [
  {
   "cell_type": "code",
   "execution_count": 1,
   "id": "ea6c0fb5",
   "metadata": {},
   "outputs": [],
   "source": [
    "def cycleDetect(head):                # NAIVE APPROACH\n",
    "    hashMap = dict()\n",
    "    \n",
    "    newHead = head\n",
    "    j = 0\n",
    "    \n",
    "    while newHead != None:\n",
    "        if hashMap.get(newHead,\"DNE\") != \"DNE\":\n",
    "            return True\n",
    "        else:\n",
    "            hashMap[newHead] = j\n",
    "            j += 1\n",
    "\n",
    "        "
   ]
  },
  {
   "cell_type": "code",
   "execution_count": 2,
   "id": "2f68de07",
   "metadata": {},
   "outputs": [],
   "source": [
    "def cycleDetect(head):\n",
    "    slow = head\n",
    "    fast = head.next\n",
    "    \n",
    "    while fast.next and fast.next.next:\n",
    "        if slow == fast:\n",
    "            return True\n",
    "        else:\n",
    "            slow = slow.next\n",
    "            fast = fast.next.next\n",
    "    return False"
   ]
  },
  {
   "cell_type": "code",
   "execution_count": null,
   "id": "78fa1133",
   "metadata": {},
   "outputs": [],
   "source": []
  }
 ],
 "metadata": {
  "kernelspec": {
   "display_name": "Python 3 (ipykernel)",
   "language": "python",
   "name": "python3"
  },
  "language_info": {
   "codemirror_mode": {
    "name": "ipython",
    "version": 3
   },
   "file_extension": ".py",
   "mimetype": "text/x-python",
   "name": "python",
   "nbconvert_exporter": "python",
   "pygments_lexer": "ipython3",
   "version": "3.9.7"
  }
 },
 "nbformat": 4,
 "nbformat_minor": 5
}
