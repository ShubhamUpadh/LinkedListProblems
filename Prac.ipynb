{
 "cells": [
  {
   "cell_type": "code",
   "execution_count": 15,
   "id": "595faec7",
   "metadata": {},
   "outputs": [
    {
     "name": "stdout",
     "output_type": "stream",
     "text": [
      "1 2 3 4 5 -1\n",
      "1 -> 2 -> 3 -> 4 -> 5 -> None\n"
     ]
    }
   ],
   "source": [
    "# agar head nahi exist karta to element to head me allot karo aur agar exist karta hai to curr me dalo aur last element ko point karao\n",
    "\n",
    "class Node:\n",
    "    def __init__(self,data,next= None):\n",
    "        self.data = data\n",
    "        self.next = None\n",
    "        \n",
    "def printLL(head):\n",
    "    \n",
    "    newhead = head\n",
    "    \n",
    "    while newhead != None:\n",
    "        print(newhead.data,end =\" -> \")\n",
    "        newhead = newhead.next\n",
    "    \n",
    "    print(\"None\")\n",
    "    \n",
    "    \n",
    "\n",
    "def takeinput():\n",
    "    \n",
    "    arr = list(int(ele) for ele in input().split(\" \"))\n",
    "    \n",
    "    #print(arr)\n",
    "    \n",
    "    head, curr = None, None\n",
    "    \n",
    "    for ele in arr:\n",
    "        \n",
    "        if ele == -1:\n",
    "            break\n",
    "        \n",
    "        newNode = Node(ele)\n",
    "        \n",
    "        if head == None:\n",
    "            head = newNode\n",
    "            head.next = None\n",
    "            curr = head\n",
    "        else:\n",
    "            curr.next = newNode\n",
    "            curr = newNode\n",
    "            curr.next = None\n",
    "            \n",
    "            \n",
    "    return head\n",
    "            \n",
    "head = takeinput()\n",
    "printLL(head)\n",
    "        "
   ]
  },
  {
   "cell_type": "code",
   "execution_count": 16,
   "id": "7eb377cd",
   "metadata": {},
   "outputs": [
    {
     "name": "stdout",
     "output_type": "stream",
     "text": [
      "5 -> 4 -> 3 -> 2 -> 1 -> None\n"
     ]
    }
   ],
   "source": [
    "# reverse karna hai LL ko\n",
    "# last se head, head return karwaao\n",
    "# aur fir wo jo smalltail usko maipulate karo\n",
    "\n",
    "def reverseLL(head):\n",
    "    \n",
    "    if head == None or head.next == None:\n",
    "        return head, head\n",
    "    \n",
    "    smallHead, smallTail = reverseLL(head.next)\n",
    "    \n",
    "    smallTail.next = head\n",
    "    head.next = None\n",
    "    \n",
    "    return smallHead, head\n",
    "\n",
    "newestHead = head\n",
    "revnewestHead,tail = reverseLL(newestHead)\n",
    "printLL(revnewestHead)"
   ]
  },
  {
   "cell_type": "code",
   "execution_count": 15,
   "id": "9b1fc4ef",
   "metadata": {},
   "outputs": [],
   "source": [
    "class Node:\n",
    "    \n",
    "    def __init__(self,data):\n",
    "        self.data = data\n",
    "        self.next = None\n",
    "\n",
    "        \n",
    "def takeInput():\n",
    "    \n",
    "    arr = list(int(x) for x in input(\"What are Linked List elements -> \").split(\" \"))\n",
    "    \n",
    "    head, tail = None, None\n",
    "    \n",
    "    for i in arr:\n",
    "        \n",
    "        if i == -1:\n",
    "            break\n",
    "        \n",
    "        newNode = Node(i)\n",
    "        \n",
    "        if head == None:\n",
    "            head = newNode\n",
    "            tail = newNode\n",
    "        else:\n",
    "            tail.next= newNode\n",
    "            tail = newNode\n",
    "        \n",
    "    return head\n",
    "\n",
    "def printLL(head):\n",
    "    dummy = head\n",
    "    \n",
    "    while head != None:\n",
    "        print(str(head.data)+ \" -> \", end = \"\")\n",
    "        head = head.next\n",
    "    \n",
    "    print(\"None\")\n",
    "\n",
    "\n",
    "        \n"
   ]
  },
  {
   "cell_type": "code",
   "execution_count": 16,
   "id": "b4cf4e07",
   "metadata": {},
   "outputs": [
    {
     "name": "stdout",
     "output_type": "stream",
     "text": [
      "What are Linked List elements -> 0 10 20 30 40 50 60 70 80\n",
      "0 -> 10 -> 20 -> 30 -> 40 -> 50 -> 60 -> 70 -> 80 -> None\n"
     ]
    }
   ],
   "source": [
    "head1 = takeInput()\n",
    "printLL(head1)"
   ]
  },
  {
   "cell_type": "code",
   "execution_count": 17,
   "id": "b9b4aa28",
   "metadata": {},
   "outputs": [
    {
     "name": "stdout",
     "output_type": "stream",
     "text": [
      "What are Linked List elements -> 5 15 25 35 45 55 65 75 85\n",
      "5 -> 15 -> 25 -> 35 -> 45 -> 55 -> 65 -> 75 -> 85 -> None\n"
     ]
    }
   ],
   "source": [
    "head2 = takeInput()\n",
    "printLL(head2)"
   ]
  },
  {
   "cell_type": "code",
   "execution_count": 18,
   "id": "d63c382b",
   "metadata": {},
   "outputs": [
    {
     "name": "stdout",
     "output_type": "stream",
     "text": [
      "0 -> 5 -> 10 -> 15 -> 20 -> 25 -> 30 -> 35 -> 40 -> 45 -> 50 -> 55 -> 60 -> 65 -> 70 -> 75 -> 80 -> 85 -> None\n"
     ]
    }
   ],
   "source": [
    "def mergeLL(head1,head2):\n",
    "    \n",
    "    newhead1 = head1\n",
    "    newhead2 = head2\n",
    "    \n",
    "    mummy = Node(0)\n",
    "    dummy = mummy\n",
    "    \n",
    "    while newhead1 != None and newhead2 != None:\n",
    "        \n",
    "        if newhead1.data < newhead2.data:\n",
    "            dummy.next = newhead1\n",
    "            newhead1 = newhead1.next\n",
    "        else:\n",
    "            dummy.next = newhead2\n",
    "            newhead2 = newhead2.next\n",
    "        \n",
    "        dummy = dummy.next\n",
    "    \n",
    "    if newhead1 != None:\n",
    "        dummy.next= newhead1\n",
    "    elif newhead2 != None:\n",
    "        dummy.next= newhead2\n",
    "        \n",
    "    return mummy.next\n",
    "\n",
    "mergedLL = mergeLL(head1,head2)\n",
    "\n",
    "printLL(mergedLL)\n",
    "    "
   ]
  },
  {
   "cell_type": "code",
   "execution_count": 10,
   "id": "a26ab8c6",
   "metadata": {},
   "outputs": [],
   "source": [
    "class Node:\n",
    "    def __init__(self,data):\n",
    "        self.data = data\n",
    "        self.next = None\n",
    "\n",
    "def printLL(head):\n",
    "    newhead = head\n",
    "    \n",
    "    while newhead != None:\n",
    "        print(newhead.data,end= \" -> \")\n",
    "        newhead = newhead.next\n",
    "    \n",
    "    print(\"None\")\n",
    "\n",
    "def takeInput():\n",
    "    \n",
    "    elements = list(int(x) for x in input(\"Enter LL elements -> \").split(\" \"))\n",
    "    \n",
    "    head, tail = None, None\n",
    "    \n",
    "    for element in elements:\n",
    "        \n",
    "        if element == -1:\n",
    "            break\n",
    "        \n",
    "        newNode = Node(element)\n",
    "        \n",
    "        if head == None:\n",
    "            head = newNode\n",
    "            tail = newNode\n",
    "        \n",
    "        elif head != None:\n",
    "            tail.next = newNode\n",
    "            tail = newNode\n",
    "    \n",
    "    return head\n",
    "\n",
    "            \n",
    "        \n",
    "        \n",
    "    \n"
   ]
  },
  {
   "cell_type": "code",
   "execution_count": 16,
   "id": "11f5fa43",
   "metadata": {},
   "outputs": [
    {
     "name": "stdout",
     "output_type": "stream",
     "text": [
      "Enter LL elements -> 1 2 3 4 5 6 7 8 -88\n",
      "1 -> 2 -> 3 -> 4 -> 5 -> 6 -> 7 -> 8 -> -88 -> None\n"
     ]
    }
   ],
   "source": [
    "hd = takeInput()\n",
    "printLL(hd)"
   ]
  },
  {
   "cell_type": "code",
   "execution_count": 19,
   "id": "5edeb969",
   "metadata": {},
   "outputs": [
    {
     "name": "stdout",
     "output_type": "stream",
     "text": [
      "1 -> None\n"
     ]
    }
   ],
   "source": [
    "def reverseLL(head):\n",
    "    \n",
    "    if head == None or head.next == None:\n",
    "        return head, head\n",
    "    \n",
    "    smallHead, smallTail = reverseLL(head.next)\n",
    "    \n",
    "    smallTail.next = head\n",
    "    head.next = None\n",
    "    \n",
    "    \n",
    "    \n",
    "    return smallHead, head\n",
    "\n",
    "newhd = hd\n",
    "\n",
    "reversedhd,tl = reverseLL(newhd)\n",
    "\n",
    "printLL(reversedhd)"
   ]
  },
  {
   "cell_type": "code",
   "execution_count": 21,
   "id": "ed9bcd31",
   "metadata": {},
   "outputs": [
    {
     "name": "stdout",
     "output_type": "stream",
     "text": [
      "1\n"
     ]
    }
   ],
   "source": [
    "print(hd.data)"
   ]
  },
  {
   "cell_type": "code",
   "execution_count": 22,
   "id": "67ea6ab6",
   "metadata": {},
   "outputs": [
    {
     "name": "stdout",
     "output_type": "stream",
     "text": [
      "1 -> None\n"
     ]
    }
   ],
   "source": [
    "printLL(hd)"
   ]
  },
  {
   "cell_type": "code",
   "execution_count": 27,
   "id": "bbdf1cd0",
   "metadata": {},
   "outputs": [
    {
     "name": "stdout",
     "output_type": "stream",
     "text": [
      "Enter LL elements -> 3 2 7\n",
      "Enter LL elements -> 9 6 9\n"
     ]
    }
   ],
   "source": [
    "num1 = takeInput()\n",
    "num2 = takeInput()\n",
    "\n",
    "rev1,temp = reverseLL(num1)\n",
    "rev2,temp = reverseLL(num2)"
   ]
  },
  {
   "cell_type": "code",
   "execution_count": 28,
   "id": "30019a1e",
   "metadata": {},
   "outputs": [
    {
     "name": "stdout",
     "output_type": "stream",
     "text": [
      "7 -> 2 -> 3 -> None\n",
      "9 -> 6 -> 9 -> None\n"
     ]
    }
   ],
   "source": [
    "printLL(rev1)\n",
    "printLL(rev2)"
   ]
  },
  {
   "cell_type": "code",
   "execution_count": 29,
   "id": "e3726ea7",
   "metadata": {},
   "outputs": [],
   "source": [
    "def addLL(head1,head2):\n",
    "    \n",
    "    dummy = Node(0)\n",
    "    temp = dummy\n",
    "    carry = 0\n",
    "    \n",
    "    while head1 or head2 or carry:\n",
    "        \n",
    "        sums = 0\n",
    "        \n",
    "        if head1:\n",
    "            sums += head1.data\n",
    "            head1 = head1.next\n",
    "        if head2:\n",
    "            sums += head2.data\n",
    "            head2 = head2.next\n",
    "        \n",
    "        sums += carry\n",
    "        \n",
    "        \n",
    "        nodeVal = Node(sums%10)\n",
    "        \n",
    "        temp.next= nodeVal\n",
    "        temp = nodeVal\n",
    "        \n",
    "        \n",
    "        \n",
    "        carry = sums //10\n",
    "    \n",
    "    return dummy.next\n",
    "        \n",
    "    "
   ]
  },
  {
   "cell_type": "code",
   "execution_count": 30,
   "id": "e5d35c6b",
   "metadata": {},
   "outputs": [
    {
     "name": "stdout",
     "output_type": "stream",
     "text": [
      "6 -> 9 -> 2 -> 1 -> None\n"
     ]
    }
   ],
   "source": [
    "addedLL = addLL(rev1,rev2)\n",
    "printLL(addedLL)"
   ]
  },
  {
   "cell_type": "code",
   "execution_count": null,
   "id": "cd41950d",
   "metadata": {},
   "outputs": [],
   "source": [
    "def checkInt(head1, head2):\n",
    "    \n",
    "    d1, d2 = head1, head2\n",
    "    changes = 0\n",
    "    \n",
    "    while True:\n",
    "        \n",
    "        if d1 != None:\n",
    "            d1 = d1.next\n",
    "        else:\n",
    "            d1 = head2\n",
    "            changes += 1\n",
    "        \n",
    "        if d2 != None:\n",
    "            d2 = d2.next\n",
    "        else:\n",
    "            d2 = head1\n",
    "            changes += 1\n",
    "        \n",
    "        if d1 == d2:\n",
    "            return True\n",
    "        if changes == 4:\n",
    "            break\n",
    "    \n",
    "    return False\n",
    "    \n",
    "            "
   ]
  }
 ],
 "metadata": {
  "kernelspec": {
   "display_name": "Python 3 (ipykernel)",
   "language": "python",
   "name": "python3"
  },
  "language_info": {
   "codemirror_mode": {
    "name": "ipython",
    "version": 3
   },
   "file_extension": ".py",
   "mimetype": "text/x-python",
   "name": "python",
   "nbconvert_exporter": "python",
   "pygments_lexer": "ipython3",
   "version": "3.9.7"
  }
 },
 "nbformat": 4,
 "nbformat_minor": 5
}
