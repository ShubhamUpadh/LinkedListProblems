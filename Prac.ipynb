{
 "cells": [
  {
   "cell_type": "code",
   "execution_count": 15,
   "id": "595faec7",
   "metadata": {},
   "outputs": [
    {
     "name": "stdout",
     "output_type": "stream",
     "text": [
      "1 2 3 4 5 -1\n",
      "1 -> 2 -> 3 -> 4 -> 5 -> None\n"
     ]
    }
   ],
   "source": [
    "# agar head nahi exist karta to element to head me allot karo aur agar exist karta hai to curr me dalo aur last element ko point karao\n",
    "\n",
    "class Node:\n",
    "    def __init__(self,data,next= None):\n",
    "        self.data = data\n",
    "        self.next = None\n",
    "        \n",
    "def printLL(head):\n",
    "    \n",
    "    newhead = head\n",
    "    \n",
    "    while newhead != None:\n",
    "        print(newhead.data,end =\" -> \")\n",
    "        newhead = newhead.next\n",
    "    \n",
    "    print(\"None\")\n",
    "    \n",
    "    \n",
    "\n",
    "def takeinput():\n",
    "    \n",
    "    arr = list(int(ele) for ele in input().split(\" \"))\n",
    "    \n",
    "    #print(arr)\n",
    "    \n",
    "    head, curr = None, None\n",
    "    \n",
    "    for ele in arr:\n",
    "        \n",
    "        if ele == -1:\n",
    "            break\n",
    "        \n",
    "        newNode = Node(ele)\n",
    "        \n",
    "        if head == None:\n",
    "            head = newNode\n",
    "            head.next = None\n",
    "            curr = head\n",
    "        else:\n",
    "            curr.next = newNode\n",
    "            curr = newNode\n",
    "            curr.next = None\n",
    "            \n",
    "            \n",
    "    return head\n",
    "            \n",
    "head = takeinput()\n",
    "printLL(head)\n",
    "        "
   ]
  },
  {
   "cell_type": "code",
   "execution_count": 16,
   "id": "7eb377cd",
   "metadata": {},
   "outputs": [
    {
     "name": "stdout",
     "output_type": "stream",
     "text": [
      "5 -> 4 -> 3 -> 2 -> 1 -> None\n"
     ]
    }
   ],
   "source": [
    "# reverse karna hai LL ko\n",
    "# last se head, head return karwaao\n",
    "# aur fir wo jo smalltail usko maipulate karo\n",
    "\n",
    "def reverseLL(head):\n",
    "    \n",
    "    if head == None or head.next == None:\n",
    "        return head, head\n",
    "    \n",
    "    smallHead, smallTail = reverseLL(head.next)\n",
    "    \n",
    "    smallTail.next = head\n",
    "    head.next = None\n",
    "    \n",
    "    return smallHead, head\n",
    "\n",
    "newestHead = head\n",
    "revnewestHead,tail = reverseLL(newestHead)\n",
    "printLL(revnewestHead)"
   ]
  },
  {
   "cell_type": "code",
   "execution_count": 15,
   "id": "9b1fc4ef",
   "metadata": {},
   "outputs": [],
   "source": [
    "class Node:\n",
    "    \n",
    "    def __init__(self,data):\n",
    "        self.data = data\n",
    "        self.next = None\n",
    "\n",
    "        \n",
    "def takeInput():\n",
    "    \n",
    "    arr = list(int(x) for x in input(\"What are Linked List elements -> \").split(\" \"))\n",
    "    \n",
    "    head, tail = None, None\n",
    "    \n",
    "    for i in arr:\n",
    "        \n",
    "        if i == -1:\n",
    "            break\n",
    "        \n",
    "        newNode = Node(i)\n",
    "        \n",
    "        if head == None:\n",
    "            head = newNode\n",
    "            tail = newNode\n",
    "        else:\n",
    "            tail.next= newNode\n",
    "            tail = newNode\n",
    "        \n",
    "    return head\n",
    "\n",
    "def printLL(head):\n",
    "    dummy = head\n",
    "    \n",
    "    while head != None:\n",
    "        print(str(head.data)+ \" -> \", end = \"\")\n",
    "        head = head.next\n",
    "    \n",
    "    print(\"None\")\n",
    "\n",
    "\n",
    "        \n"
   ]
  },
  {
   "cell_type": "code",
   "execution_count": 16,
   "id": "b4cf4e07",
   "metadata": {},
   "outputs": [
    {
     "name": "stdout",
     "output_type": "stream",
     "text": [
      "What are Linked List elements -> 0 10 20 30 40 50 60 70 80\n",
      "0 -> 10 -> 20 -> 30 -> 40 -> 50 -> 60 -> 70 -> 80 -> None\n"
     ]
    }
   ],
   "source": [
    "head1 = takeInput()\n",
    "printLL(head1)"
   ]
  },
  {
   "cell_type": "code",
   "execution_count": 17,
   "id": "b9b4aa28",
   "metadata": {},
   "outputs": [
    {
     "name": "stdout",
     "output_type": "stream",
     "text": [
      "What are Linked List elements -> 5 15 25 35 45 55 65 75 85\n",
      "5 -> 15 -> 25 -> 35 -> 45 -> 55 -> 65 -> 75 -> 85 -> None\n"
     ]
    }
   ],
   "source": [
    "head2 = takeInput()\n",
    "printLL(head2)"
   ]
  },
  {
   "cell_type": "code",
   "execution_count": 18,
   "id": "d63c382b",
   "metadata": {},
   "outputs": [
    {
     "name": "stdout",
     "output_type": "stream",
     "text": [
      "0 -> 5 -> 10 -> 15 -> 20 -> 25 -> 30 -> 35 -> 40 -> 45 -> 50 -> 55 -> 60 -> 65 -> 70 -> 75 -> 80 -> 85 -> None\n"
     ]
    }
   ],
   "source": [
    "def mergeLL(head1,head2):\n",
    "    \n",
    "    newhead1 = head1\n",
    "    newhead2 = head2\n",
    "    \n",
    "    mummy = Node(0)\n",
    "    dummy = mummy\n",
    "    \n",
    "    while newhead1 != None and newhead2 != None:\n",
    "        \n",
    "        if newhead1.data < newhead2.data:\n",
    "            dummy.next = newhead1\n",
    "            newhead1 = newhead1.next\n",
    "        else:\n",
    "            dummy.next = newhead2\n",
    "            newhead2 = newhead2.next\n",
    "        \n",
    "        dummy = dummy.next\n",
    "    \n",
    "    if newhead1 != None:\n",
    "        dummy.next= newhead1\n",
    "    elif newhead2 != None:\n",
    "        dummy.next= newhead2\n",
    "        \n",
    "    return mummy.next\n",
    "\n",
    "mergedLL = mergeLL(head1,head2)\n",
    "\n",
    "printLL(mergedLL)\n",
    "    "
   ]
  }
 ],
 "metadata": {
  "kernelspec": {
   "display_name": "Python 3 (ipykernel)",
   "language": "python",
   "name": "python3"
  },
  "language_info": {
   "codemirror_mode": {
    "name": "ipython",
    "version": 3
   },
   "file_extension": ".py",
   "mimetype": "text/x-python",
   "name": "python",
   "nbconvert_exporter": "python",
   "pygments_lexer": "ipython3",
   "version": "3.9.7"
  }
 },
 "nbformat": 4,
 "nbformat_minor": 5
}
